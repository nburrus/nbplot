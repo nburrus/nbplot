{
 "cells": [
  {
   "cell_type": "markdown",
   "id": "crude-daughter",
   "metadata": {},
   "source": [
    "# Pandas template\n",
    "\n",
    "* Cells before the `# [[nbplot]] template` are ignored.\n",
    "* Cells starting with `# [[nbplot]] ignore` are also ignored.\n",
    "\n",
    "* Some variables are substituted in every cell:\n",
    "    * `${root_path}`: the working directory when `nbplot` was called. Input files will be relative to this.\n",
    "\n",
    "* Some variables are subtituted in the `[[nbplot]] for i,input in enumerate(inputs)` blocks:\n",
    "    * `${i}`: index of the input in the list\n",
    "    * `${input.pretty_name}`: truncated path of the file, or 'stdin'\n",
    "    * `${input.rel_path}`: path of the file relative to the `root_path`, or `stdin`\n",
    "    * `${input.abs_path_or_io}`: full filepath or StringIO when the data comes from stdin\n",
    "    * `${input.guessed_sep}`: separator guessed by nbplot for this file. Usually space or comma."
   ]
  },
  {
   "cell_type": "code",
   "execution_count": null,
   "id": "equipped-owner",
   "metadata": {},
   "outputs": [],
   "source": [
    "# [[nbplot]] template\n",
    "# Note: don't change that first line, it tells nbplot that the notebook below is a template\n",
    "# This cell will be executed and the metadata dictionary loaded, but not included in the output.\n",
    "\n",
    "template_metadata = {\n",
    "    'name': 'daltonize',\n",
    "    'format_version': '0.1'\n",
    "}"
   ]
  },
  {
   "cell_type": "code",
   "execution_count": null,
   "id": "extended-length",
   "metadata": {},
   "outputs": [],
   "source": [
    "import io, math, os, sys\n",
    "from base64 import b64decode\n",
    "from pathlib import Path\n",
    "from IPython.core.display import HTML\n",
    "\n",
    "import matplotlib.pyplot as plt\n",
    "import numpy as np\n",
    "\n",
    "import PIL\n",
    "\n",
    "# Install daltonize if necessary\n",
    "try:\n",
    "    from daltonize import daltonize\n",
    "except ImportError:\n",
    "    !pip install -q daltonize\n",
    "    from daltonize import daltonize\n",
    "\n",
    "# Uncomment to get interactive plots.\n",
    "# %matplotlib notebook\n",
    "\n",
    "def process_image(name, abs_path_or_io):\n",
    "    im = PIL.Image.open(abs_path_or_io).convert('RGB')\n",
    "\n",
    "    plt.ioff();\n",
    "    \n",
    "    display(HTML('<hr>'))    \n",
    "    fig,axs = plt.subplots(1, 3, figsize=(16,8), constrained_layout=True)\n",
    "    fig.suptitle('Color Channels swap/invert', fontsize=24)    \n",
    "    np_im = np.array(im)\n",
    "    np_flip_red_blue = np_im[:,:,[2,1,0]]\n",
    "    np_flip_green_blue = np_im[:,:,[0,2,1]]\n",
    "    axs[0].imshow(im)\n",
    "    axs[0].set_title(name)\n",
    "    axs[1].imshow(np_flip_red_blue)\n",
    "    axs[1].set_title('Flip Red/Blue')\n",
    "    axs[2].imshow(np_flip_green_blue)\n",
    "    axs[2].set_title('Flip Green/Blue')    \n",
    "    plt.show()\n",
    "            \n",
    "    display(HTML('<hr>'))    \n",
    "    fig,axs = plt.subplots(1, 3, figsize=(16,8), constrained_layout=True)\n",
    "    fig.suptitle('Daltonize Enhancement', fontsize=24)\n",
    "    axs[0].imshow(daltonize.daltonize(im, color_deficit='p').astype(np.uint8))\n",
    "    axs[0].set_title('Protanope')\n",
    "    axs[1].imshow(daltonize.daltonize(im, color_deficit='d').astype(np.uint8))\n",
    "    axs[1].set_title('Deuteranope')\n",
    "    axs[2].imshow(daltonize.daltonize(im, color_deficit='t').astype(np.uint8))\n",
    "    axs[2].set_title('Tritanope')\n",
    "    plt.show()\n",
    "\n",
    "    display(HTML('<hr>'))\n",
    "    fig,axs = plt.subplots(1, 3, figsize=(16,8), constrained_layout=True)\n",
    "    fig.suptitle('Simulate Color Blindness', fontsize=24)\n",
    "    axs[0].imshow(daltonize.simulate(im, color_deficit='p').astype(np.uint8))\n",
    "    axs[0].set_title('Protanope')\n",
    "    axs[1].imshow(daltonize.simulate(im, color_deficit='d').astype(np.uint8))\n",
    "    axs[1].set_title('Deuteranope')\n",
    "    axs[2].imshow(daltonize.simulate(im, color_deficit='t').astype(np.uint8))\n",
    "    axs[2].set_title('Tritanope')\n",
    "    plt.show()\n",
    "    \n",
    "    plt.ion(); # restore interactive mode"
   ]
  },
  {
   "cell_type": "code",
   "execution_count": null,
   "id": "joint-ready",
   "metadata": {},
   "outputs": [],
   "source": [
    "root_path = Path(\"$root_path\")\n",
    "\n",
    "# [[nbplot]] for i,input in enumerate(inputs)\n",
    "process_image(\"${input.pretty_name}\", ${input.abs_path_or_io})\n",
    "# [[nbplot]] endfor"
   ]
  }
 ],
 "metadata": {
  "kernelspec": {
   "display_name": "Python 3",
   "language": "python",
   "name": "python3"
  },
  "language_info": {
   "codemirror_mode": {
    "name": "ipython",
    "version": 3
   },
   "file_extension": ".py",
   "mimetype": "text/x-python",
   "name": "python",
   "nbconvert_exporter": "python",
   "pygments_lexer": "ipython3",
   "version": "3.7.6"
  }
 },
 "nbformat": 4,
 "nbformat_minor": 5
}