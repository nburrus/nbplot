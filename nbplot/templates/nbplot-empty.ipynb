{
 "cells": [
  {
   "cell_type": "markdown",
   "id": "crude-daughter",
   "metadata": {},
   "source": [
    "# Empty template\n",
    "\n",
    "* Cells before the `# [[nbplot]] template` are ignored.\n",
    "* Cells starting with `# [[nbplot]] ignore` are also ignored.\n",
    "\n",
    "* Some variables are substituted in every cell:\n",
    "    * `${root_path}`: the working directory when `nbplot` was called. Input files will be relative to this.\n",
    "\n",
    "* Some variables are subtituted in the `[[nbplot]] for i,input in enumerate(inputs)` blocks:\n",
    "    * `${i}`: index of the input in the list\n",
    "    * `${input.pretty_name}`: truncated path of the file, or 'stdin'\n",
    "    * `${input.rel_path}`: path of the file relative to the `root_path`, or `stdin`\n",
    "    * `${input.abs_path_or_io}`: full filepath or StringIO when the data comes from stdin\n",
    "    * `${input.guessed_sep}`: separator guessed by nbplot for this file. Usually space or comma."
   ]
  },
  {
   "cell_type": "code",
   "id": "equipped-owner",
   "execution_count": null,
   "metadata": {},
   "outputs": [],
   "source": [
    "# [[nbplot]] template\n",
    "# Note: don't change that first line, it tells nbplot that the notebook below is a template\n",
    "# This cell will be executed and the metadata dictionary loaded, but not included in the output.\n",
    "\n",
    "template_metadata = {\n",
    "    'name': 'empty',\n",
    "    'format_version': '0.1'\n",
    "} "
   ]
  },
  {
   "cell_type": "code",
   "id": "extended-length",
   "execution_count": 1,
   "metadata": {},
   "outputs": [
    {
     "ename": "SyntaxError",
     "evalue": "invalid syntax (362949565.py, line 2)",
     "output_type": "error",
     "traceback": [
      "  \u001b[36mCell\u001b[39m\u001b[36m \u001b[39m\u001b[32mIn[1]\u001b[39m\u001b[32m, line 2\u001b[39m\n\u001b[31m    \u001b[39m\u001b[31mfile_or_io${i} = ${input.abs_path_or_io}\u001b[39m\n              ^\n\u001b[31mSyntaxError\u001b[39m\u001b[31m:\u001b[39m invalid syntax\n"
     ]
    }
   ],
   "source": [
    "# [[nbplot]] for i,input in enumerate(inputs)\n",
    "file_or_io${i} = ${input.abs_path_or_io}\n",
    "print (\"${input.pretty_name}\", file_or_io${i})\n",
    "# [[nbplot]] endfor"
   ]
  }
 ],
 "metadata": {
  "kernelspec": {
   "display_name": ".venv",
   "language": "python",
   "name": "python3"
  },
  "language_info": {
   "codemirror_mode": {
    "name": "ipython",
    "version": 3
   },
   "file_extension": ".py",
   "mimetype": "text/x-python",
   "name": "python",
   "nbconvert_exporter": "python",
   "pygments_lexer": "ipython3",
   "version": "3.12.8"
  }
 },
 "nbformat": 4,
 "nbformat_minor": 5
}
