{
 "cells": [
  {
   "source": [
    "# Empty template\n",
    "\n",
    "* Cells before the `# [[nbplot]] template` are ignored.\n",
    "* Cells starting with `# [[nbplot]] ignore` are also ignored.\n",
    "\n",
    "* Some variables are substituted in every cell:\n",
    "    * `${root_path}`: the working directory when `nbplot` was called. Input files will be relative to this.\n",
    "\n",
    "* Some variables are subtituted in the `[[nbplot]] for i,input in enumerate(inputs)` blocks:\n",
    "    * `${i}`: index of the input in the list\n",
    "    * `${input.pretty_name}`: truncated path of the file, or 'stdin'\n",
    "    * `${input.rel_path}`: path of the file relative to the `root_path`, or `stdin`\n",
    "    * `${input.abs_path_or_io}`: full filepath or StringIO when the data comes from stdin\n",
    "    * `${input.guessed_sep}`: separator guessed by nbplot for this file. Usually space or comma."
   ],
   "cell_type": "markdown",
   "metadata": {}
  },
  {
   "source": [
    "# [[nbplot]] template\n",
    "# Note: don't change that first line, it tells nbplot that the notebook below is a template\n",
    "# This cell will be executed and the metadata dictionary loaded, but not included in the output.\n",
    "\n",
    "template_metadata = {\n",
    "    'name': 'empty',\n",
    "    'format_version': '0.1'\n",
    "}"
   ],
   "cell_type": "code",
   "metadata": {},
   "execution_count": null,
   "outputs": []
  },
  {
   "cell_type": "code",
   "execution_count": null,
   "metadata": {},
   "outputs": [],
   "source": [
    "# [[nbplot]] for i,input in enumerate(inputs)\n",
    "file_or_io${i} = ${input.abs_path_or_io}\n",
    "print (\"${input.pretty_name}\", file_or_io${i})\n",
    "# [[nbplot]] endfor"
   ]
  }
 ],
 "metadata": {
  "kernelspec": {
   "display_name": "Python 3",
   "language": "python",
   "name": "python3"
  },
  "language_info": {
   "codemirror_mode": {
    "name": "ipython",
    "version": 3
   },
   "file_extension": ".py",
   "mimetype": "text/x-python",
   "name": "python",
   "nbconvert_exporter": "python",
   "pygments_lexer": "ipython3",
   "version": "3.8.6-final"
  }
 },
 "nbformat": 4,
 "nbformat_minor": 5
}