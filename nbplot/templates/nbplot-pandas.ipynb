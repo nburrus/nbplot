{
 "cells": [
  {
   "cell_type": "markdown",
   "id": "crude-daughter",
   "metadata": {},
   "source": [
    "# Pandas template\n",
    "\n",
    "* Cells before the `# [[nbplot]] template` are ignored.\n",
    "* Cells starting with `# [[nbplot]] ignore` are also ignored.\n",
    "\n",
    "* Some variables are substituted in every cell:\n",
    "    * `${root_path}`: the working directory when `nbplot` was called. Input files will be relative to this.\n",
    "\n",
    "* Some variables are subtituted in the `[[nbplot]] for i,input in enumerate(inputs)` blocks:\n",
    "    * `${i}`: index of the input in the list\n",
    "    * `${input.pretty_name}`: truncated path of the file, or 'stdin'\n",
    "    * `${input.rel_path}`: path of the file relative to the `root_path`, or `stdin`\n",
    "    * `${input.abs_path_or_io}`: full filepath or StringIO when the data comes from stdin\n",
    "    * `${input.guessed_sep}`: separator guessed by nbplot for this file. Usually space or comma."
   ]
  },
  {
   "cell_type": "code",
   "execution_count": null,
   "id": "equipped-owner",
   "metadata": {},
   "outputs": [],
   "source": [
    "# [[nbplot]] template\n",
    "# Note: don't change that first line, it tells nbplot that the notebook below is a template\n",
    "# This cell will be executed and the metadata dictionary loaded, but not included in the output.\n",
    "\n",
    "template_metadata = {\n",
    "    'name': 'pandas',\n",
    "    'format_version': '0.1'\n",
    "}"
   ]
  },
  {
   "cell_type": "code",
   "execution_count": null,
   "id": "extended-length",
   "metadata": {},
   "outputs": [],
   "source": [
    "import io, math, os, sys\n",
    "from base64 import b64decode\n",
    "from pathlib import Path\n",
    "\n",
    "import matplotlib.pyplot as plt\n",
    "import pandas\n",
    "import numpy as np\n",
    "import mplcursors\n",
    "\n",
    "# Transform x,y into a smooth x,y with splines (similar to gnuplot csplines)\n",
    "# Sample usage: ax.plot(*csplines(x,y)) # Don't forget the * to expand the output (x,y) tuple!\n",
    "def csplines(x,y):\n",
    "    from scipy.interpolate import make_interp_spline\n",
    "    spl = make_interp_spline(x, y, 3)\n",
    "    x_smooth = np.linspace(x[0], x[len(x)-1], max(300, len(x)*10)) # at least 10x the number of points\n",
    "    return x_smooth, spl(x_smooth)\n",
    "\n",
    "# \\s+ will handle \\t, etc.\n",
    "def pandas_delim(delim): return '\\s+' if delim == ' ' else delim"
   ]
  },
  {
   "cell_type": "code",
   "execution_count": null,
   "id": "rotary-transmission",
   "metadata": {},
   "outputs": [],
   "source": [
    "# [[nbplot]] ignore\n",
    "# Not enabling that for now.\n",
    "# Cache mechanism to avoid reloading the files everytime we run the plot cell\n",
    "loaded_dataframes = {}\n",
    "def needs_reload(path): return path not in loaded_dataframes or os.path.getmtime(path) != loaded_dataframes[path][1]\n",
    "def cache_dataframe(path, df): loaded_dataframes[path] = (df, os.path.getmtime(path)); return df\n",
    "# Meant to be used as:\n",
    "# df${i} = None\n",
    "# if needs_reload(\"${input.abs_path_or_io}\"):\n",
    "#   df${i} = cache_dataframe(\"${input.abs_path_or_io}\", df${i})"
   ]
  },
  {
   "cell_type": "markdown",
   "id": "devoted-dollar",
   "metadata": {},
   "source": [
    "## <center> Cheatsheet gnuplot <> matplotlib </center>\n",
    "\n",
    "|Gnuplot | Matplotlib|\n",
    "| :-- | :-- |\n",
    "| `with lines` | `default` or `ax.plot(..., '-')` |\n",
    "| `with linespoints` | `ax.plot(..., '.-')` |\n",
    "| `with points` | `ax.plot(..., '.')` |\n",
    "| `smooth csplines` | `ax.plot(*csplines(x,y))` |\n",
    "| `using 1:2` | `ax.plot(df[0], df[1])` |\n",
    "| `using 0:1` | `ax.plot(df[0])` |"
   ]
  },
  {
   "cell_type": "code",
   "execution_count": null,
   "id": "joint-ready",
   "metadata": {},
   "outputs": [],
   "source": [
    "# interactive mode by default\n",
    "%matplotlib notebook\n",
    "#%matplotlib inline\n",
    "plt.ioff() # show the figure only at the end to avoid postponing potential loading errors\n",
    "\n",
    "fig,ax = plt.subplots(figsize=(8,6), num='MyWindow')\n",
    "#fig.suptitle('MyPlot')\n",
    "#ax.set_title('My Title')\n",
    "#ax.set_xlabel('x')\n",
    "#ax.set_ylabel('y')\n",
    "\n",
    "root_path = Path(\"$root_path\")\n",
    "\n",
    "# [[nbplot]] for i,input in enumerate(inputs)\n",
    "name${i} = \"${input.pretty_name}\"; file_or_io${i} = ${input.abs_path_or_io}\n",
    "df${i} = pandas.read_csv(file_or_io${i}, sep=pandas_delim('${input.guessed_sep}'), header=None, comment='#', skipinitialspace=True, skiprows=0)\n",
    "display(df${i}.head())\n",
    "x, y = (df${i}[0], df${i}[1]) if len(df${i}.columns) > 1 else (np.arange(0,len(df${i})), df${i}[0])\n",
    "ax.plot(x, y, label=name${i})\n",
    "# [[nbplot]] endfor\n",
    "\n",
    "ax.legend()\n",
    "mplcursors.cursor() # enable the cursors, left click to annotate a point, right click to hide it.\n",
    "plt.show() # show the plot\n",
    "plt.ion(); # restore interactive mode"
   ]
  }
 ],
 "metadata": {
  "kernelspec": {
   "display_name": "Python 3",
   "language": "python",
   "name": "python3"
  },
  "language_info": {
   "codemirror_mode": {
    "name": "ipython",
    "version": 3
   },
   "file_extension": ".py",
   "mimetype": "text/x-python",
   "name": "python",
   "nbconvert_exporter": "python",
   "pygments_lexer": "ipython3",
   "version": "3.7.6"
  }
 },
 "nbformat": 4,
 "nbformat_minor": 5
}
