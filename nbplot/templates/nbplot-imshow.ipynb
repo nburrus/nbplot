{
 "cells": [
  {
   "cell_type": "markdown",
   "id": "crude-daughter",
   "metadata": {},
   "source": [
    "# Pandas template\n",
    "\n",
    "* Cells before the `# [[nbplot]] template` are ignored.\n",
    "* Cells starting with `# [[nbplot]] ignore` are also ignored.\n",
    "\n",
    "* Some variables are substituted in every cell:\n",
    "    * `${root_path}`: the working directory when `nbplot` was called. Input files will be relative to this.\n",
    "\n",
    "* Some variables are subtituted in the `[[nbplot]] for i,input in enumerate(inputs)` blocks:\n",
    "    * `${i}`: index of the input in the list\n",
    "    * `${input.pretty_name}`: truncated path of the file, or 'stdin'\n",
    "    * `${input.rel_path}`: path of the file relative to the `root_path`, or `stdin`\n",
    "    * `${input.abs_path_or_io}`: full filepath or StringIO when the data comes from stdin\n",
    "    * `${input.guessed_sep}`: separator guessed by nbplot for this file. Usually space or comma."
   ]
  },
  {
   "cell_type": "code",
   "execution_count": null,
   "id": "equipped-owner",
   "metadata": {},
   "outputs": [],
   "source": [
    "# [[nbplot]] template\n",
    "# Note: don't change that first line, it tells nbplot that the notebook below is a template\n",
    "# This cell will be executed and the metadata dictionary loaded, but not included in the output.\n",
    "\n",
    "template_metadata = {\n",
    "    'name': 'imshow',\n",
    "    'format_version': '0.1'\n",
    "}"
   ]
  },
  {
   "cell_type": "code",
   "execution_count": null,
   "id": "extended-length",
   "metadata": {},
   "outputs": [],
   "source": [
    "import io, math, os, sys\n",
    "from base64 import b64decode\n",
    "from pathlib import Path\n",
    "\n",
    "import matplotlib.pyplot as plt\n",
    "import numpy as np\n",
    "import mplcursors\n",
    "\n",
    "import PIL"
   ]
  },
  {
   "cell_type": "code",
   "execution_count": null,
   "id": "joint-ready",
   "metadata": {},
   "outputs": [],
   "source": [
    "root_path = Path(\"$root_path\")\n",
    "\n",
    "# [[nbplot]] for i,input in enumerate(inputs)\n",
    "name${i} = \"${input.pretty_name}\"; file_or_io${i} = ${input.abs_path_or_io}\n",
    "im${i} = PIL.Image.open(file_or_io${i})\n",
    "display(im${i}.format, im${i}.size, im${i}.mode)\n",
    "fig,ax = plt.subplots(figsize=(16,im${i}.size[1]*16/im${i}.size[0]))\n",
    "ax.set_title(name${i})\n",
    "ax.imshow(im${i});\n",
    "# [[nbplot]] endfor"
   ]
  }
 ],
 "metadata": {
  "kernelspec": {
   "display_name": "Python 3",
   "language": "python",
   "name": "python3"
  },
  "language_info": {
   "codemirror_mode": {
    "name": "ipython",
    "version": 3
   },
   "file_extension": ".py",
   "mimetype": "text/x-python",
   "name": "python",
   "nbconvert_exporter": "python",
   "pygments_lexer": "ipython3",
   "version": "3.7.6"
  }
 },
 "nbformat": 4,
 "nbformat_minor": 5
}