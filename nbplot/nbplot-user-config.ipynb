{
 "cells": [
  {
   "source": [
    "# Configuration variables\n",
    "\n",
    "The cell code will be executed and the variables will be loaded from the config dictionary."
   ],
   "cell_type": "markdown",
   "metadata": {}
  },
  {
   "cell_type": "code",
   "execution_count": null,
   "metadata": {},
   "outputs": [],
   "source": [
    "# [[nbplot]] config\n",
    "from pathlib import Path\n",
    "\n",
    "# Fallback to the numpy template if pandas is not installed.\n",
    "try:\n",
    "    import pandas\n",
    "    has_pandas = True\n",
    "except:\n",
    "    has_pandas = False\n",
    "\n",
    "config = {\n",
    "    'jupyter_notebook_working_directory': Path().home(),\n",
    "    'generated_plots_directory': Path().home() / 'nbplots',\n",
    "    'default_template': 'pandas' if has_pandas else 'numpy',\n",
    "}"
   ]
  }
 ],
 "metadata": {
  "kernelspec": {
   "display_name": "Python 3",
   "language": "python",
   "name": "python3"
  },
  "language_info": {
   "codemirror_mode": {
    "name": "ipython",
    "version": 3
   },
   "file_extension": ".py",
   "mimetype": "text/x-python",
   "name": "python",
   "nbconvert_exporter": "python",
   "pygments_lexer": "ipython3",
   "version": "3.8.6-final"
  }
 },
 "nbformat": 4,
 "nbformat_minor": 5
}