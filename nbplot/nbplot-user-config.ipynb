{
 "cells": [
  {
   "cell_type": "markdown",
   "id": "crude-daughter",
   "metadata": {},
   "source": [
    "# Configuration variables\n",
    "\n",
    "The cell code will be executed and the variables will be loaded from the config dictionary."
   ]
  },
  {
   "cell_type": "code",
   "execution_count": null,
   "id": "equipped-owner",
   "metadata": {},
   "outputs": [],
   "source": [
    "# [[nbplot]] config\n",
    "from pathlib import Path\n",
    "import sys\n",
    "\n",
    "# Fallback to the numpy template if pandas is not installed.\n",
    "try:\n",
    "    import pandas\n",
    "    has_pandas = True\n",
    "except:\n",
    "    has_pandas = False\n",
    "\n",
    "config = {\n",
    "    'jupyter_notebook_working_directory': Path().home(),\n",
    "    'generated_plots_directory': Path().home() / 'nbplots',\n",
    "    'default_template': 'pandas' if has_pandas else 'numpy',\n",
    "    'editor': ['open', '-a', 'Visual Studio Code' if sys.platform == 'darwin' else 'code', '${nbpath}']\n",
    "}"
   ]
  }
 ],
 "metadata": {
  "kernelspec": {
   "display_name": "Python 3",
   "language": "python",
   "name": "python3"
  },
  "language_info": {
   "codemirror_mode": {
    "name": "ipython",
    "version": 3
   },
   "file_extension": ".py",
   "mimetype": "text/x-python",
   "name": "python",
   "nbconvert_exporter": "python",
   "pygments_lexer": "ipython3",
   "version": "3.8.6-final"
  }
 },
 "nbformat": 4,
 "nbformat_minor": 5
}
